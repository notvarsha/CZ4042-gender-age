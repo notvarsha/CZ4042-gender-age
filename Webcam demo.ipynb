{
 "cells": [
  {
   "cell_type": "code",
   "execution_count": null,
   "metadata": {
    "colab": {
     "base_uri": "https://localhost:8080/"
    },
    "id": "nY2eC_pv8HVM",
    "outputId": "081c4064-e724-4133-b501-dca636d9916a",
    "scrolled": true
   },
   "outputs": [],
   "source": [
    "!pip install omegaconf\n",
    "!pip install efficientnet"
   ]
  },
  {
   "cell_type": "code",
   "execution_count": null,
   "metadata": {
    "id": "srMUZM7pwTAe"
   },
   "outputs": [],
   "source": [
    "from pathlib import Path\n",
    "import cv2\n",
    "import dlib\n",
    "import numpy as np\n",
    "import argparse\n",
    "from contextlib import contextmanager\n",
    "from omegaconf import OmegaConf\n",
    "from tensorflow.keras.utils import get_file\n",
    "from tensorflow.keras.models import Model\n",
    "from keras.layers import Dense, Activation, BatchNormalization, GlobalMaxPool2D\n",
    "\n",
    "#from efficientnet.keras import EfficientNetB0, EfficientNetB3\n",
    "from tensorflow.keras.applications import EfficientNetB0, EfficientNetB3\n",
    "import IPython.display as display\n",
    "from PIL import Image\n",
    "from IPython.display import display as display_image\n"
   ]
  },
  {
   "cell_type": "code",
   "execution_count": null,
   "metadata": {
    "id": "fJzN2zaE8rWy"
   },
   "outputs": [],
   "source": []
  },
  {
   "cell_type": "code",
   "execution_count": null,
   "metadata": {
    "id": "9-mHbnhJ8rgk"
   },
   "outputs": [],
   "source": []
  },
  {
   "cell_type": "code",
   "execution_count": null,
   "metadata": {
    "id": "_vnW6n6I81NG"
   },
   "outputs": [],
   "source": [
    "## Function to draw bounding box around detected faces\n",
    "\n",
    "def draw_label(image, point, label, font=cv2.FONT_HERSHEY_SIMPLEX,\n",
    "               font_scale=0.8, thickness=1):\n",
    "    size = cv2.getTextSize(label, font, font_scale, thickness)[0]\n",
    "    x, y = point\n",
    "    cv2.rectangle(image, (x, y - size[1]), (x + size[0], y), (255, 0, 0), cv2.FILLED)\n",
    "    cv2.putText(image, label, point, font, font_scale, (255, 255, 255), thickness, lineType=cv2.LINE_AA)\n",
    "\n"
   ]
  },
  {
   "cell_type": "code",
   "execution_count": null,
   "metadata": {
    "id": "8U7wZha8_JMe"
   },
   "outputs": [],
   "source": [
    "## Function to instantiate EfficientNet model\n",
    "\n",
    "def get_model(IMG_SIZE):\n",
    "\n",
    "    base_model = EfficientNetB0(include_top=False, input_shape=(IMG_SIZE, IMG_SIZE, 3), pooling=\"avg\")\n",
    "    features = base_model.output\n",
    "    pred_gender = Dense(units=2, activation=\"sigmoid\", name=\"pred_gender\")(features)\n",
    "    pred_age = Dense(units=8, activation=\"softmax\", name=\"pred_age\")(features)\n",
    "    model = Model(inputs=base_model.input, outputs=[pred_gender, pred_age])\n",
    "    return model"
   ]
  },
  {
   "cell_type": "code",
   "execution_count": null,
   "metadata": {
    "id": "ZfikV0qq9CAP"
   },
   "outputs": [],
   "source": [
    "# Path to pretrained model\n",
    "weight_file = \"EfficientNetB0_224_weights.04-0.96.hdf5\"\n",
    "margin = 0.4\n",
    "image_dir = None\n",
    "\n",
    "# dlib library for face detection\n",
    "detector = dlib.get_frontal_face_detector()\n",
    "\n",
    "# Instantiate model and load pretrained weights\n",
    "model_name, img_size = Path(weight_file).stem.split(\"_\")[:2]\n",
    "img_size = int(img_size)\n",
    "cfg = OmegaConf.from_dotlist([f\"model.model_name={model_name}\", f\"model.img_size={img_size}\"])\n",
    "img_size = int(cfg.model.img_size)\n",
    "model = get_model(img_size)\n",
    "model.load_weights(weight_file, by_name=True)\n"
   ]
  },
  {
   "cell_type": "code",
   "execution_count": null,
   "metadata": {},
   "outputs": [],
   "source": [
    "# Function to access webcam and capture video frames\n",
    "\n",
    "def access_webcam():\n",
    "    # Access the webcam\n",
    "    cap = cv2.VideoCapture(0)\n",
    "\n",
    "    if not cap.isOpened():\n",
    "        raise RuntimeError(\"Failed to access the webcam\")\n",
    "\n",
    "    try:\n",
    "        # Capture a frame from the webcam\n",
    "        ret, frame = cap.read()\n",
    "        if not ret:\n",
    "            raise RuntimeError(\"Failed to capture image\")\n",
    "\n",
    "        # Preprocess the captured frame (optional)\n",
    "        #frame = cv2.cvtColor(frame, cv2.COLOR_BGR2RGB)\n",
    "        #frame = cv2.resize(frame, (224, 224))\n",
    "        display_image(Image.fromarray(cv2.cvtColor(frame, cv2.COLOR_BGR2RGB)))\n",
    "        return frame\n",
    "    \n",
    "    finally:\n",
    "        cap.release()"
   ]
  },
  {
   "cell_type": "code",
   "execution_count": null,
   "metadata": {},
   "outputs": [],
   "source": [
    "# Capture images and resize them for facial detection\n",
    "img = access_webcam()\n",
    "input_img = cv2.cvtColor(img, cv2.COLOR_BGR2RGB)\n",
    "img_h, img_w, _ = np.shape(input_img)\n",
    "\n",
    "# Detect faces using dlib library\n",
    "detected = detector(input_img, 1)\n",
    "faces = np.empty((len(detected), img_size, img_size, 3))\n",
    "\n",
    "# Only if faces are detected\n",
    "if len(detected) > 0:\n",
    "    for i, d in enumerate(detected):\n",
    "        x1, y1, x2, y2, w, h = d.left(), d.top(), d.right() + 1, d.bottom() + 1, d.width(), d.height()\n",
    "        xw1 = max(int(x1 - margin * w), 0)\n",
    "        yw1 = max(int(y1 - margin * h), 0)\n",
    "        xw2 = min(int(x2 + margin * w), img_w - 1)\n",
    "        yw2 = min(int(y2 + margin * h), img_h - 1)\n",
    "        cv2.rectangle(img, (x1, y1), (x2, y2), (255, 0, 0), 2)\n",
    "        # cv2.rectangle(img, (xw1, yw1), (xw2, yw2), (255, 0, 0), 2)\n",
    "        faces[i] = cv2.resize(img[yw1:yw2 + 1, xw1:xw2 + 1], (img_size, img_size))\n",
    "\n",
    "    # predict ages and genders of the detected faces\n",
    "    results = model.predict(faces)\n",
    "    predicted_genders = results[0]\n",
    "    ages = np.arange(0, 8).reshape(8, 1)\n",
    "    predicted_ages = results[1].dot(ages).flatten()\n",
    "    print(predicted_genders, predicted_ages)\n",
    "\n",
    "    # draw results\n",
    "    for i, d in enumerate(detected):\n",
    "        #label = \"{}, {}\".format(int(predicted_ages[i]),\"M\" if predicted_genders[i][0] < 0.5 else \"F\")\n",
    "        #draw_label(img, (d.left(), d.top()), label)\n",
    "        label = \"{}, {}\".format(int(predicted_ages[i]),\n",
    "                                        \"M\" if predicted_genders[i][0] < 0.5 else \"F\")\n",
    "\n",
    "cv2.imshow(\"result\", img)\n",
    "key = cv2.waitKey(-1) if image_dir else cv2.waitKey(30)\n"
   ]
  },
  {
   "cell_type": "code",
   "execution_count": null,
   "metadata": {},
   "outputs": [],
   "source": [
    "display_image(Image.fromarray(cv2.cvtColor(img, cv2.COLOR_BGR2RGB)))"
   ]
  },
  {
   "cell_type": "code",
   "execution_count": null,
   "metadata": {},
   "outputs": [],
   "source": []
  },
  {
   "cell_type": "code",
   "execution_count": null,
   "metadata": {
    "colab": {
     "base_uri": "https://localhost:8080/",
     "height": 361
    },
    "id": "nVOD2F-BE_GL",
    "outputId": "0b75c1ab-e0cd-422a-f3c7-4f4be79e4b76",
    "scrolled": true
   },
   "outputs": [],
   "source": []
  },
  {
   "cell_type": "code",
   "execution_count": null,
   "metadata": {},
   "outputs": [],
   "source": []
  },
  {
   "cell_type": "code",
   "execution_count": null,
   "metadata": {},
   "outputs": [],
   "source": []
  },
  {
   "cell_type": "code",
   "execution_count": null,
   "metadata": {
    "colab": {
     "base_uri": "https://localhost:8080/"
    },
    "id": "B1dlX3FtF8Xf",
    "outputId": "db1c0547-2ff3-4efb-c77f-561d03860315"
   },
   "outputs": [],
   "source": []
  },
  {
   "cell_type": "code",
   "execution_count": null,
   "metadata": {
    "id": "AQwI988nF_Kb"
   },
   "outputs": [],
   "source": []
  },
  {
   "cell_type": "code",
   "execution_count": null,
   "metadata": {
    "colab": {
     "base_uri": "https://localhost:8080/",
     "height": 208
    },
    "id": "LfBL1MArGAmZ",
    "outputId": "76bc46fc-e640-4ce9-a711-dee7ec7ef772"
   },
   "outputs": [],
   "source": []
  },
  {
   "cell_type": "code",
   "execution_count": null,
   "metadata": {
    "id": "NH60YP4KGD9a"
   },
   "outputs": [],
   "source": []
  },
  {
   "cell_type": "code",
   "execution_count": null,
   "metadata": {
    "id": "9v2GnaUuGD9h"
   },
   "outputs": [],
   "source": []
  }
 ],
 "metadata": {
  "colab": {
   "provenance": []
  },
  "kernelspec": {
   "display_name": "Python 3 (ipykernel)",
   "language": "python",
   "name": "python3"
  },
  "language_info": {
   "codemirror_mode": {
    "name": "ipython",
    "version": 3
   },
   "file_extension": ".py",
   "mimetype": "text/x-python",
   "name": "python",
   "nbconvert_exporter": "python",
   "pygments_lexer": "ipython3",
   "version": "3.8.18"
  }
 },
 "nbformat": 4,
 "nbformat_minor": 1
}
